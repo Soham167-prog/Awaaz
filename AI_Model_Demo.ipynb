{
 "cells": [
  {
   "cell_type": "markdown",
   "metadata": {},
   "source": [
    "# Awaaz AI Model Demo\n",
    "\n",
    "## Road Pothole Severity Detection\n",
    "\n",
    "This notebook demonstrates:\n",
    "1. Dataset loading and visualization\n",
    "2. Model architecture overview\n",
    "3. Testing with severe pothole images\n",
    "4. Model predictions and confidence scores"
   ]
  },
  {
   "cell_type": "markdown",
   "metadata": {},
   "source": [
    "## 1. Import Libraries and Setup"
   ]
  },
  {
   "cell_type": "code",
   "execution_count": null,
   "metadata": {},
   "outputs": [],
   "source": [
    "import torch\n",
    "import torch.nn as nn\n",
    "import torchvision.transforms as transforms\n",
    "from PIL import Image\n",
    "import matplotlib.pyplot as plt\n",
    "import os\n",
    "import sys\n",
    "\n",
    "sys.path.append(\"src\")\n",
    "\n",
    "from models.model import PotholeSeverityModel\n",
    "from data.dataset import PotholeImageDataset, CLASS_NAMES\n",
    "\n",
    "print(\"✅ Libraries imported successfully!\")\n",
    "print(f\"PyTorch version: {torch.__version__}\")\n",
    "print(f\"CUDA available: {torch.cuda.is_available()}\")\n",
    "print(f\"MPS available: {torch.backends.mps.is_available()}\")"
   ]
  },
  {
   "cell_type": "markdown",
   "metadata": {},
   "source": [
    "## 2. Dataset Overview"
   ]
  },
  {
   "cell_type": "code",
   "execution_count": null,
   "metadata": {},
   "outputs": [],
   "source": [
    "dataset_path = \"dataset\"\n",
    "\n",
    "train_dataset = PotholeImageDataset(\n",
    "    data_dir=dataset_path,\n",
    "    split=\"train\",\n",
    "    image_size=224,\n",
    "    augment=False\n",
    ")\n",
    "\n",
    "print(f\"📊 Total training samples: {len(train_dataset)}\")\n",
    "print(f\"Classes: {CLASS_NAMES}\")\n",
    "\n",
    "class_counts = {name: 0 for name in CLASS_NAMES}\n",
    "for _, label in train_dataset.samples:\n",
    "    class_counts[CLASS_NAMES[label]] += 1\n",
    "\n",
    "print(\"\n",
    "Class Distribution:\")\n",
    "for class_name, count in class_counts.items():\n",
    "    print(f\"  {class_name}: {count} images\")"
   ]
  },
  {
   "cell_type": "markdown",
   "metadata": {},
   "source": [
    "## 3. Model Architecture"
   ]
  },
  {
   "cell_type": "code",
   "execution_count": null,
   "metadata": {},
   "outputs": [],
   "source": [
    "device = torch.device(\"mps\" if torch.backends.mps.is_available() else \"cuda\" if torch.cuda.is_available() else \"cpu\")\n",
    "print(f\"Using device: {device}\")\n",
    "\n",
    "model = PotholeSeverityModel(num_classes=4, pretrained=True)\n",
    "print(\"\n",
    "🏗️ Model Architecture:\")\n",
    "print(model)\n",
    "\n",
    "total_params = sum(p.numel() for p in model.parameters())\n",
    "print(f\"\n",
    "📊 Total parameters: {total_params:,}\")"
   ]
  },
  {
   "cell_type": "markdown",
   "metadata": {},
   "source": [
    "## 4. Load Trained Model"
   ]
  },
  {
   "cell_type": "code",
   "execution_count": null,
   "metadata": {},
   "outputs": [],
   "source": [
    "checkpoint_path = \"checkpoints/best.pt\"\n",
    "\n",
    "if os.path.exists(checkpoint_path):\n",
    "    checkpoint = torch.load(checkpoint_path, map_location=device)\n",
    "    \n",
    "    if \"model_state\" in checkpoint:\n",
    "        model.load_state_dict(checkpoint[\"model_state\"])\n",
    "    elif \"model_state_dict\" in checkpoint:\n",
    "        model.load_state_dict(checkpoint[\"model_state_dict\"])\n",
    "    else:\n",
    "        model.load_state_dict(checkpoint)\n",
    "    \n",
    "    model.to(device)\n",
    "    model.eval()\n",
    "    print(\"✅ Model loaded successfully!\")\n",
    "    if \"epoch\" in checkpoint:\n",
    "        print(f\"Trained for {checkpoint.get('epoch', 0)} epochs\")\n",
    "    if \"best_val_acc\" in checkpoint:\n",
    "        print(f\"Best validation accuracy: {checkpoint.get('best_val_acc', 0):.4f}\")\n",
    "else:\n",
    "    print(\"⚠️ Checkpoint not found. Using untrained model.\")"
   ]
  },
  {
   "cell_type": "markdown",
   "metadata": {},
   "source": [
    "## 5. Test with Severe Pothole Image"
   ]
  },
  {
   "cell_type": "code",
   "execution_count": null,
   "metadata": {},
   "outputs": [],
   "source": [
    "severe_dir = \"dataset/data/potholes/test/severe\"\n",
    "\n",
    "if os.path.exists(severe_dir):\n",
    "    severe_images = [f for f in os.listdir(severe_dir) if f.lower().endswith((\".jpg\", \".jpeg\", \".png\"))]\n",
    "    \n",
    "    if severe_images:\n",
    "        test_image_path = os.path.join(severe_dir, severe_images[0])\n",
    "        print(f\"📷 Test image: {severe_images[0]}\")\n",
    "        \n",
    "        image = Image.open(test_image_path).convert(\"RGB\")\n",
    "        plt.figure(figsize=(10, 8))\n",
    "        plt.imshow(image)\n",
    "        plt.title(\"Test Image - Severe Pothole\", fontsize=14, fontweight=\"bold\")\n",
    "        plt.axis(\"off\")\n",
    "        plt.show()\n",
    "        \n",
    "        transform = transforms.Compose([\n",
    "            transforms.Resize((224, 224)),\n",
    "            transforms.ToTensor(),\n",
    "            transforms.Normalize(mean=[0.485, 0.456, 0.406], std=[0.229, 0.224, 0.225])\n",
    "        ])\n",
    "        \n",
    "        image_tensor = transform(image).unsqueeze(0).to(device)\n",
    "        \n",
    "        model.eval()\n",
    "        with torch.no_grad():\n",
    "            outputs = model(image_tensor)\n",
    "            probabilities = torch.nn.functional.softmax(outputs, dim=1)\n",
    "            confidence, predicted = torch.max(probabilities, 1)\n",
    "            probs = probabilities[0].cpu().numpy()\n",
    "            predicted_class = CLASS_NAMES[predicted.item()]\n",
    "            confidence_score = confidence.item()\n",
    "        \n",
    "        print(f\"\n",
    "🔍 Prediction: {predicted_class.upper()}\")\n",
    "        print(f\"Confidence: {confidence_score:.4f}\")\n",
    "        print(f\"\n",
    "Class Probabilities:\")\n",
    "        for i, class_name in enumerate(CLASS_NAMES):\n",
    "            print(f\"  {class_name}: {probs[i]:.4f} ({probs[i]*100:.2f}%)\")\n",
    "        \n",
    "        fig, (ax1, ax2) = plt.subplots(1, 2, figsize=(14, 6))\n",
    "        ax1.imshow(image)\n",
    "        ax1.set_title(\"Input Image\", fontsize=12, fontweight=\"bold\")\n",
    "        ax1.axis(\"off\")\n",
    "        ax2.barh(CLASS_NAMES, probs * 100, color=[\"green\", \"yellow\", \"orange\", \"red\"], alpha=0.7)\n",
    "        ax2.set_xlabel(\"Probability (%)\", fontsize=12, fontweight=\"bold\")\n",
    "        ax2.set_title(\"Model Predictions\", fontsize=12, fontweight=\"bold\")\n",
    "        ax2.set_xlim(0, 100)\n",
    "        plt.tight_layout()\n",
    "        plt.show()\n",
    "        \n",
    "        if predicted_class == \"severe\":\n",
    "            print(\"\n",
    "🚨 DANGEROUS ROAD DETECTED! Requires IMMEDIATE attention.\")\n",
    "    else:\n",
    "        print(\"❌ No severe images found\")"
   ]
  }
 ],
 "metadata": {
  "kernelspec": {
   "display_name": "Python 3",
   "language": "python",
   "name": "python3"
  },
  "language_info": {
   "name": "python",
   "version": "3.13.0"
  }
 },
 "nbformat": 4,
 "nbformat_minor": 2
}
